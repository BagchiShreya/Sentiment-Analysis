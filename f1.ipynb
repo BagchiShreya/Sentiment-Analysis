{
 "cells": [
  {
   "cell_type": "code",
   "execution_count": 4,
   "metadata": {},
   "outputs": [
    {
     "name": "stderr",
     "output_type": "stream",
     "text": [
      "Some weights of the model checkpoint at cardiffnlp/twitter-roberta-base-sentiment-latest were not used when initializing RobertaForSequenceClassification: ['roberta.pooler.dense.bias', 'roberta.pooler.dense.weight']\n",
      "- This IS expected if you are initializing RobertaForSequenceClassification from the checkpoint of a model trained on another task or with another architecture (e.g. initializing a BertForSequenceClassification model from a BertForPreTraining model).\n",
      "- This IS NOT expected if you are initializing RobertaForSequenceClassification from the checkpoint of a model that you expect to be exactly identical (initializing a BertForSequenceClassification model from a BertForSequenceClassification model).\n",
      "Asking to truncate to max_length but no maximum length is provided and the model has no predefined maximum length. Default to no truncation.\n"
     ]
    },
    {
     "name": "stdout",
     "output_type": "stream",
     "text": [
      "Classification Report:\n",
      "              precision    recall  f1-score   support\n",
      "\n",
      "    Negative       0.69      0.86      0.77        21\n",
      "     Neutral       0.75      0.79      0.77        70\n",
      "    Positive       0.80      0.68      0.73        53\n",
      "\n",
      "    accuracy                           0.76       144\n",
      "   macro avg       0.75      0.77      0.76       144\n",
      "weighted avg       0.76      0.76      0.76       144\n",
      "\n",
      "\n",
      "Confusion Matrix:\n",
      "[[18  1  2]\n",
      " [ 8 55  7]\n",
      " [ 0 17 36]]\n"
     ]
    }
   ],
   "source": [
    "import pandas as pd\n",
    "from transformers import AutoTokenizer, AutoModelForSequenceClassification\n",
    "from scipy.special import softmax\n",
    "from sklearn.metrics import classification_report, confusion_matrix\n",
    "import numpy as np\n",
    "\n",
    "# Load the tokenizer and model\n",
    "tokenizer = AutoTokenizer.from_pretrained(\"cardiffnlp/twitter-roberta-base-sentiment-latest\")\n",
    "model = AutoModelForSequenceClassification.from_pretrained(\"cardiffnlp/twitter-roberta-base-sentiment-latest\")\n",
    "\n",
    "# Define sentiment labels for the model\n",
    "labels = [\"Negative\", \"Neutral\", \"Positive\"]\n",
    "\n",
    "# Step 1: Load Dataset (replace with your dataset path)\n",
    "# Assume dataset has two columns: 'text' and 'label'\n",
    "dataset_path = \"train_text.csv\"  # Replace with your dataset file\n",
    "data = pd.read_csv(dataset_path)\n",
    "\n",
    "# Convert numeric labels (if any) to string (e.g., 0 -> Negative, 1 -> Neutral, 2 -> Positive)\n",
    "label_mapping = {0: \"Negative\", 1: \"Neutral\", 2: \"Positive\"}\n",
    "data[\"true_label\"] = data[\"true_label\"].map(label_mapping)\n",
    "\n",
    "# Step 2: Initialize ground truth and predictions lists\n",
    "y_true = []  # Ground truth labels\n",
    "y_pred = []  # Model predictions\n",
    "\n",
    "# Step 3: Make predictions using the model\n",
    "for _, row in data.iterrows():\n",
    "    tweet = row[\"text\"]\n",
    "    true_label = row[\"true_label\"]\n",
    "    \n",
    "    # Tokenize the tweet\n",
    "    encoded_tweet = tokenizer(tweet, return_tensors=\"pt\", truncation=True)\n",
    "    \n",
    "    # Predict\n",
    "    output = model(**encoded_tweet)\n",
    "    scores = output.logits.detach().numpy()\n",
    "    probs = softmax(scores, axis=1)  # Convert logits to probabilities\n",
    "    \n",
    "    # Get the highest probability label\n",
    "    predicted_label = labels[np.argmax(probs)]\n",
    "    \n",
    "    # Append to lists\n",
    "    y_true.append(true_label)\n",
    "    y_pred.append(predicted_label)\n",
    "\n",
    "# Step 4: Evaluate the Model\n",
    "print(\"Classification Report:\")\n",
    "print(classification_report(y_true, y_pred, target_names=labels))\n",
    "\n",
    "print(\"\\nConfusion Matrix:\")\n",
    "conf_matrix = confusion_matrix(y_true, y_pred, labels=labels)\n",
    "print(conf_matrix)\n"
   ]
  }
 ],
 "metadata": {
  "kernelspec": {
   "display_name": "base",
   "language": "python",
   "name": "python3"
  },
  "language_info": {
   "codemirror_mode": {
    "name": "ipython",
    "version": 3
   },
   "file_extension": ".py",
   "mimetype": "text/x-python",
   "name": "python",
   "nbconvert_exporter": "python",
   "pygments_lexer": "ipython3",
   "version": "3.11.7"
  }
 },
 "nbformat": 4,
 "nbformat_minor": 2
}
